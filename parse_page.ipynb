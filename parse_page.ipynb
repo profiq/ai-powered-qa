{
 "cells": [
  {
   "cell_type": "code",
   "execution_count": 1,
   "metadata": {},
   "outputs": [
    {
     "data": {
      "text/plain": [
       "True"
      ]
     },
     "execution_count": 1,
     "metadata": {},
     "output_type": "execute_result"
    }
   ],
   "source": [
    "import nest_asyncio\n",
    "from dotenv import load_dotenv\n",
    "\n",
    "# This is required only for jupyter notebooks, since they have their own eventloop\n",
    "nest_asyncio.apply()\n",
    "load_dotenv()  # This will load the variables from the .env file into the environment"
   ]
  },
  {
   "cell_type": "code",
   "execution_count": 2,
   "metadata": {},
   "outputs": [],
   "source": [
    "from langchain_modules.toolkit import PlayWrightBrowserToolkit\n",
    "from langchain_modules.tools.playwright.utils import create_async_playwright_browser\n",
    "\n",
    "async_browser = create_async_playwright_browser(headless=False)\n",
    "toolkit = PlayWrightBrowserToolkit.from_browser(async_browser=async_browser)\n",
    "\n",
    "tools = toolkit.get_tools()\n",
    "\n",
    "name_to_tool_map = {tool.name: tool for tool in tools}"
   ]
  },
  {
   "cell_type": "code",
   "execution_count": 4,
   "metadata": {},
   "outputs": [
    {
     "name": "stdout",
     "output_type": "stream",
     "text": [
      "<Response url='https://dev.app.serenityapp.com/sign-in' request=<Request url='https://dev.app.serenityapp.com/sign-in' method='GET'>>\n"
     ]
    },
    {
     "data": {
      "text/plain": [
       "'Navigating to https://dev.app.serenityapp.com/sign-in returned status code 200'"
      ]
     },
     "execution_count": 4,
     "metadata": {},
     "output_type": "execute_result"
    }
   ],
   "source": [
    "navigate = name_to_tool_map[\"navigate_browser\"]\n",
    "\n",
    "await navigate._arun(**{\"url\": \"https://dev.app.serenityapp.com/sign-in\"})"
   ]
  },
  {
   "cell_type": "code",
   "execution_count": 60,
   "metadata": {},
   "outputs": [
    {
     "data": {
      "text/plain": [
       "\"Unable to click on element 'button[data-testid='SignInPage-submit']'\""
      ]
     },
     "execution_count": 60,
     "metadata": {},
     "output_type": "execute_result"
    }
   ],
   "source": [
    "fill_element = name_to_tool_map[\"fill_element\"]\n",
    "\n",
    "await fill_element._arun(\n",
    "    **{\"selector\": \"input[name='email']\", \"text\": \"viktor.nawrath+3s1@profiq.com\"}\n",
    ")\n",
    "await fill_element._arun(**{\"selector\": \"input[name='password']\", \"text\": \"Serenity!\"})\n",
    "\n",
    "click_element = name_to_tool_map[\"click_element\"]\n",
    "\n",
    "await click_element._arun(**{\"selector\": \"button[data-testid='SignInPage-submit']\"})"
   ]
  },
  {
   "cell_type": "code",
   "execution_count": 64,
   "metadata": {},
   "outputs": [],
   "source": [
    "async def is_element_in_viewport(element, viewport_width, viewport_height):\n",
    "    bounding_box = await element.bounding_box()\n",
    "    if not bounding_box:\n",
    "        return False\n",
    "    x, y, width, height = (\n",
    "        bounding_box[\"x\"],\n",
    "        bounding_box[\"y\"],\n",
    "        bounding_box[\"width\"],\n",
    "        bounding_box[\"height\"],\n",
    "    )\n",
    "    return (\n",
    "        x >= 0\n",
    "        and y >= 0\n",
    "        and x + width <= viewport_width\n",
    "        and y + height <= viewport_height\n",
    "    )\n",
    "\n",
    "\n",
    "async def amark_invisible_elements(page):\n",
    "    # Get viewport size\n",
    "    viewport_size = page.viewport_size\n",
    "    viewport_width = viewport_size[\"width\"]\n",
    "    viewport_height = viewport_size[\"height\"]\n",
    "\n",
    "    body = await page.query_selector(\"body\")\n",
    "    for element in await body.query_selector_all(\"*\"):\n",
    "        if not await is_element_in_viewport(element, viewport_width, viewport_height):\n",
    "            await element.evaluate('el => el.setAttribute(\"data-visible\", \"false\")')"
   ]
  },
  {
   "cell_type": "code",
   "execution_count": 68,
   "metadata": {},
   "outputs": [],
   "source": [
    "from bs4 import BeautifulSoup, Tag\n",
    "\n",
    "\n",
    "def clean_attributes(tag):\n",
    "    # List of attributes to remove, add or remove attributes as needed\n",
    "    blocked_attrs = [\"class\", \"style\"]\n",
    "    tag.attrs = {k: v for k, v in tag.attrs.items() if k not in blocked_attrs}\n",
    "\n",
    "\n",
    "def remove_specific_tags(tag):\n",
    "    # List of tags to remove\n",
    "    tags_to_remove = [\"path\", \"meta\", \"link\", \"noscript\", \"script\", \"style\", \"title\"]\n",
    "    for t in tag.find_all(tags_to_remove):\n",
    "        t.decompose()\n",
    "\n",
    "\n",
    "def remove_elements_by_data_attribute(tag, attribute, value):\n",
    "    for elem in tag.select(f'[{attribute}=\"{value}\"]'):\n",
    "        elem.decompose()\n",
    "\n",
    "\n",
    "def strip_html_recursively(tag):\n",
    "    clean_attributes(tag)\n",
    "    for child in tag.find_all(\n",
    "        True, recursive=False\n",
    "    ):  # `recursive=False` to only go one level deep\n",
    "        if isinstance(child, Tag):\n",
    "            strip_html_recursively(child)\n",
    "\n",
    "\n",
    "def strip_html_to_structure(html_content):\n",
    "    soup = BeautifulSoup(html_content, \"html.parser\")\n",
    "    remove_specific_tags(soup)  # Remove specific tags before processing\n",
    "    remove_elements_by_data_attribute(soup, \"data-visible\", \"false\")\n",
    "    strip_html_recursively(soup)\n",
    "    return str(soup)"
   ]
  },
  {
   "cell_type": "code",
   "execution_count": 69,
   "metadata": {},
   "outputs": [
    {
     "name": "stdout",
     "output_type": "stream",
     "text": [
      "<!DOCTYPE html>\n",
      "<html lang=\"en\"><head></head><body><div id=\"root\"><div><header data-testid=\"AppLayoutAppBar\"><div><div><div><div><svg viewbox=\"0 0 135 34\"></svg></div></div><button data-testid=\"AppBar-switch-role-button\" tabindex=\"0\" type=\"button\">Messaging<span><svg aria-hidden=\"true\" data-testid=\"KeyboardArrowDownIcon\" focusable=\"false\" viewbox=\"0 0 24 24\"></svg></span><span></span></button></div><div><div data-testid=\"AppBar-my-account-button\" role=\"button\" tabindex=\"0\"><div><svg aria-hidden=\"true\" data-testid=\"ArrowDropDownIcon\" focusable=\"false\" viewbox=\"0 0 24 24\"></svg></div><div><span>Viktor Staff 1</span><p>Redux Test</p></div><div><div color=\"primary\" data-testid=\"Avatar\"><img alt=\"VS\" src=\"https://d26d9t3siorj89.cloudfront.net/protected/us-east-2:c42e49dd-2414-4af4-8cf7-eae0497595eb/6dec5b36-09b6-45ed-bdd0-9a10487d7529.jpeg\"/></div></div><span></span></div></div></div></header><div><div data-testid=\"View\"><div></div></div><div><div><div><div></div></div></div></div></div><main><div data-testid=\"ConversationPage-View\"><div><div data-testid=\"ConversationPageHeader\"><div><svg aria-hidden=\"true\" focusable=\"false\" viewbox=\"0 0 24 24\"></svg><h1 title=\"Check-In\">Check-In</h1></div><div><div data-testid=\"AvatarGroup\" role=\"button\"><div color=\"primary\" data-testid=\"AvatarGroup-Avatar\"><img alt=\"VS\" src=\"https://d26d9t3siorj89.cloudfront.net/protected/us-east-2:c42e49dd-2414-4af4-8cf7-eae0497595eb/6dec5b36-09b6-45ed-bdd0-9a10487d7529.jpeg\"/></div></div><button aria-label=\"more\" data-testid=\"conversation-detail\" tabindex=\"0\" type=\"button\"><svg aria-hidden=\"true\" data-testid=\"MoreVertIcon\" focusable=\"false\" viewbox=\"0 0 24 24\"></svg><span></span></button></div></div></div><div><div><div data-test-id=\"virtuoso-scroller\" data-testid=\"Virtuoso\" data-virtuoso-scroller=\"true\" tabindex=\"0\"></div><div data-testid=\"UnreadMessagesSticker\"><div><svg aria-hidden=\"true\" data-testid=\"ArrowUpwardIcon\" focusable=\"false\" viewbox=\"0 0 24 24\"></svg><p>2 unread messages</p><button aria-label=\"Mark as read\" tabindex=\"0\" type=\"button\"><svg aria-hidden=\"true\" data-testid=\"CloseIcon\" focusable=\"false\" viewbox=\"0 0 24 24\"></svg><span></span></button></div></div></div></div><div><div data-testid=\"MessageEntry\"><div id=\"messageEntry\"><div id=\"messageEntryInput\"><div contenteditable=\"true\" data-lexical-editor=\"true\" role=\"textbox\" spellcheck=\"true\"><p><br/></p></div><div>Type a message...</div><div aria-hidden=\"true\"><div><div></div><div><div><h5>Upload to #Check-In</h5></div><p>You can add comments before sending</p></div></div></div></div><div><div id=\"messageEntryToolbarEmpty\"></div><div><button aria-label=\"Click to choose emojis\" tabindex=\"0\" type=\"button\"><svg aria-hidden=\"true\" focusable=\"false\" id=\"outlined-smiley\" viewbox=\"0 0 24 24\"></svg><span></span></button><button aria-label=\"attach file\" data-testid=\"Attachment\" tabindex=\"0\" type=\"button\"><svg aria-hidden=\"true\" data-testid=\"AttachFileIcon\" focusable=\"false\" viewbox=\"0 0 24 24\"></svg><span></span></button><span aria-label=\"Can't send empty message\"><button aria-label=\"send\" data-testid=\"SendMessage\" disabled=\"\" tabindex=\"-1\" type=\"button\"><svg aria-hidden=\"true\" data-testid=\"SendIcon\" focusable=\"false\" viewbox=\"0 0 24 24\"></svg></button></span></div></div></div></div></div></div></main></div></div><div aria-hidden=\"true\" data-testid=\"AppBar-BasicMenu\" role=\"presentation\"><div aria-hidden=\"true\"></div><div data-testid=\"sentinelStart\" tabindex=\"-1\"></div><div tabindex=\"-1\"><ul role=\"menu\" tabindex=\"-1\"><span aria-label=\"\"><li data-testid=\"AppBar-my-profile-BasicMenuItem\" role=\"menuitem\" tabindex=\"-1\"><div><svg aria-hidden=\"true\" data-testid=\"AccountCircleIcon\" focusable=\"false\" viewbox=\"0 0 24 24\"></svg></div><div><span>Account</span></div><span></span></li></span><span aria-label=\"\"><li data-testid=\"AppBar-notifications-settings-BasicMenuItem\" role=\"menuitem\" tabindex=\"-1\"><div><svg aria-hidden=\"true\" data-testid=\"NotificationsIcon\" focusable=\"false\" viewbox=\"0 0 24 24\"></svg></div><div><span>Notifications settings</span></div><span></span></li></span><span aria-label=\"\"><li data-testid=\"AppBar-log-out-BasicMenuItem\" role=\"menuitem\" tabindex=\"-1\"><div><svg aria-hidden=\"true\" data-testid=\"LogoutIcon\" focusable=\"false\" viewbox=\"0 0 24 24\"></svg></div><div><span>Sign Out</span></div><span></span></li></span></ul></div><div data-testid=\"sentinelEnd\" tabindex=\"-1\"></div></div><div aria-hidden=\"true\" data-testid=\"AppBar-BasicMenu\" role=\"presentation\"><div aria-hidden=\"true\"></div><div data-testid=\"sentinelStart\" tabindex=\"-1\"></div><div tabindex=\"-1\"><ul role=\"menu\" tabindex=\"-1\"><span aria-label=\"\"><li data-testid=\"AppBar-messaging-BasicMenuItem\" role=\"menuitem\" tabindex=\"0\"><div><svg aria-hidden=\"true\" data-testid=\"ForumIcon\" focusable=\"false\" viewbox=\"0 0 24 24\"></svg></div><div><span>Messaging</span></div><span></span></li></span><span aria-label=\"\"><li data-testid=\"AppBar-admin-BasicMenuItem\" role=\"menuitem\" tabindex=\"-1\"><div><svg aria-hidden=\"true\" data-testid=\"SettingsIcon\" focusable=\"false\" viewbox=\"0 0 24 24\"></svg></div><div><span>Admin</span></div><span></span></li></span></ul></div><div data-testid=\"sentinelEnd\" tabindex=\"-1\"></div></div><div aria-hidden=\"true\" data-testid=\"BasicMenu\" role=\"presentation\"><div aria-hidden=\"true\"></div><div data-testid=\"sentinelStart\" tabindex=\"-1\"></div><div tabindex=\"-1\"><ul role=\"menu\" tabindex=\"-1\"><span aria-label=\"\"><li data-testid=\"CopyText-BasicMenuItem\" role=\"menuitem\" tabindex=\"0\"><div><svg aria-hidden=\"true\" data-testid=\"ContentCopyIcon\" focusable=\"false\" viewbox=\"0 0 24 24\"></svg></div><div><span>Copy text</span></div><span></span></li></span><span aria-label=\"\"><li data-testid=\"MarkAsUnread-BasicMenuItem\" role=\"menuitem\" tabindex=\"-1\"><div><svg aria-hidden=\"true\" data-testid=\"MarkUnreadChatAltIcon\" focusable=\"false\" viewbox=\"0 0 24 24\"><circle cx=\"19\" cy=\"3\" r=\"3\"></circle></svg></div><div><span>Mark as unread</span></div><span></span></li></span></ul></div><div data-testid=\"sentinelEnd\" tabindex=\"-1\"></div></div><div aria-hidden=\"true\" data-testid=\"BasicMenu\" role=\"presentation\"><div aria-hidden=\"true\"></div><div data-testid=\"sentinelStart\" tabindex=\"-1\"></div><div tabindex=\"-1\"><ul role=\"menu\" tabindex=\"-1\"><span aria-label=\"\"><li data-testid=\"CopyText-BasicMenuItem\" role=\"menuitem\" tabindex=\"0\"><div><svg aria-hidden=\"true\" data-testid=\"ContentCopyIcon\" focusable=\"false\" viewbox=\"0 0 24 24\"></svg></div><div><span>Copy text</span></div><span></span></li></span><span aria-label=\"\"><li data-testid=\"MarkAsUnread-BasicMenuItem\" role=\"menuitem\" tabindex=\"-1\"><div><svg aria-hidden=\"true\" data-testid=\"MarkUnreadChatAltIcon\" focusable=\"false\" viewbox=\"0 0 24 24\"><circle cx=\"19\" cy=\"3\" r=\"3\"></circle></svg></div><div><span>Mark as unread</span></div><span></span></li></span></ul></div><div data-testid=\"sentinelEnd\" tabindex=\"-1\"></div></div></body></html>\n"
     ]
    }
   ],
   "source": [
    "from langchain.tools.playwright.utils import aget_current_page\n",
    "\n",
    "page = await aget_current_page(toolkit.async_browser)\n",
    "\n",
    "await amark_invisible_elements(page)\n",
    "\n",
    "html_content = await page.content()\n",
    "\n",
    "print(strip_html_to_structure(html_content))"
   ]
  }
 ],
 "metadata": {
  "kernelspec": {
   "display_name": "Python 3",
   "language": "python",
   "name": "python3"
  },
  "language_info": {
   "codemirror_mode": {
    "name": "ipython",
    "version": 3
   },
   "file_extension": ".py",
   "mimetype": "text/x-python",
   "name": "python",
   "nbconvert_exporter": "python",
   "pygments_lexer": "ipython3",
   "version": "3.11.3"
  },
  "orig_nbformat": 4
 },
 "nbformat": 4,
 "nbformat_minor": 2
}
