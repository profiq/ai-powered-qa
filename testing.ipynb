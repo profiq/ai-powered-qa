{
 "cells": [
  {
   "cell_type": "code",
   "execution_count": 1,
   "metadata": {},
   "outputs": [],
   "source": [
    "%load_ext autoreload\n",
    "%autoreload 2"
   ]
  },
  {
   "cell_type": "code",
   "execution_count": 6,
   "metadata": {},
   "outputs": [
    {
     "data": {
      "text/plain": [
       "'./agents/test/agent_config_v1.json'"
      ]
     },
     "execution_count": 6,
     "metadata": {},
     "output_type": "execute_result"
    }
   ],
   "source": [
    "from components.agent import Agent\n",
    "\n",
    "agent = Agent(agent_name=\"test\")\n",
    "\n",
    "agent.model_dump()\n",
    "\n",
    "agent.system_message = \"You are an assistant\"\n",
    "\n",
    "agent.save_config()"
   ]
  },
  {
   "cell_type": "code",
   "execution_count": 24,
   "metadata": {},
   "outputs": [
    {
     "data": {
      "text/plain": [
       "'./agents/test/agent_config_v2.json'"
      ]
     },
     "execution_count": 24,
     "metadata": {},
     "output_type": "execute_result"
    }
   ],
   "source": [
    "loaded_agent = Agent.load_from_file(agent_name=\"test\")\n",
    "\n",
    "loaded_agent.model_dump()\n",
    "\n",
    "loaded_agent.system_message = \"You are an awesome assistant.\"\n",
    "\n",
    "loaded_agent.save_config()"
   ]
  },
  {
   "cell_type": "code",
   "execution_count": 25,
   "metadata": {},
   "outputs": [
    {
     "name": "stdout",
     "output_type": "stream",
     "text": [
      "[]\n"
     ]
    }
   ],
   "source": [
    "assistant_message = loaded_agent.get_completion(\"Hi, how are you?\")"
   ]
  },
  {
   "cell_type": "code",
   "execution_count": 26,
   "metadata": {},
   "outputs": [],
   "source": [
    "loaded_agent.append_message({\"role\": \"user\", \"content\": \"Hi, how are you?\"})\n",
    "loaded_agent.append_message(assistant_message)"
   ]
  },
  {
   "cell_type": "code",
   "execution_count": 27,
   "metadata": {},
   "outputs": [
    {
     "data": {
      "text/plain": [
       "'./agents/test/histories/hy6UPn_test_convo.json'"
      ]
     },
     "execution_count": 27,
     "metadata": {},
     "output_type": "execute_result"
    }
   ],
   "source": [
    "loaded_agent.save_history(\"test_convo\")"
   ]
  },
  {
   "cell_type": "code",
   "execution_count": 29,
   "metadata": {},
   "outputs": [
    {
     "name": "stdout",
     "output_type": "stream",
     "text": [
      "[{'role': 'user', 'content': 'Hi, how are you?'}, {'content': \"Hello! I'm just a computer program, so I don't have feelings, but I'm here and ready to assist you. How can I help you today?\", 'role': 'assistant'}]\n"
     ]
    },
    {
     "data": {
      "text/plain": [
       "{'content': \"Why don't skeletons fight each other?\\n\\nThey don't have the guts.\",\n",
       " 'role': 'assistant'}"
      ]
     },
     "execution_count": 29,
     "metadata": {},
     "output_type": "execute_result"
    }
   ],
   "source": [
    "loaded_agent = Agent.load_from_file(agent_name=\"test\")\n",
    "\n",
    "loaded_agent.load_history(\"hy6UPn_test_convo.json\")\n",
    "\n",
    "loaded_agent.get_completion(\"Tell me a joke.\")"
   ]
  },
  {
   "cell_type": "code",
   "execution_count": 30,
   "metadata": {},
   "outputs": [
    {
     "data": {
      "text/plain": [
       "{'content': 'Sure! How does a penguin build its house? Igloos it together!',\n",
       " 'role': 'assistant'}"
      ]
     },
     "execution_count": 30,
     "metadata": {},
     "output_type": "execute_result"
    }
   ],
   "source": [
    "loaded_agent.get_completion(\"Tell me a joke.\")"
   ]
  }
 ],
 "metadata": {
  "kernelspec": {
   "display_name": "AI Powered QA",
   "language": "python",
   "name": "ai-powered-qa"
  },
  "language_info": {
   "codemirror_mode": {
    "name": "ipython",
    "version": 3
   },
   "file_extension": ".py",
   "mimetype": "text/x-python",
   "name": "python",
   "nbconvert_exporter": "python",
   "pygments_lexer": "ipython3",
   "version": "3.11.6"
  },
  "orig_nbformat": 4
 },
 "nbformat": 4,
 "nbformat_minor": 2
}
